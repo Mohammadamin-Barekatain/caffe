{
 "cells": [
  {
   "cell_type": "markdown",
   "metadata": {},
   "source": [
    "# Evaluate snapshots and plot results"
   ]
  },
  {
   "cell_type": "code",
   "execution_count": 1,
   "metadata": {
    "collapsed": false
   },
   "outputs": [],
   "source": [
    "import os\n",
    "import re\n",
    "import subprocess\n",
    "from IPython import display\n",
    "import matplotlib.pyplot as plt\n",
    "%matplotlib inline\n",
    "plt.style.use('seaborn-white')\n",
    "\n",
    "GPUS = \"0\" #should be set\n",
    "root = '/home/ubuntu/Amin-SSD/caffe/'#should be set\n",
    "os.chdir(root)\n",
    "MODEL_DIR = 'examples/okutama-detection-test/720x576/' #should be set\n",
    "SNAP_DIR = 'models/VGGNet/okutama/SSD_720x576/' #should be set\n",
    "\n",
    "\n",
    "SOLVER_FILE = MODEL_DIR+'solver.prototxt'\n"
   ]
  },
  {
   "cell_type": "markdown",
   "metadata": {},
   "source": [
    "Get list of snapshots."
   ]
  },
  {
   "cell_type": "code",
   "execution_count": 2,
   "metadata": {
    "collapsed": false
   },
   "outputs": [
    {
     "name": "stdout",
     "output_type": "stream",
     "text": [
      "['VGG_okutama_SSD_720x576_iter_1000.caffemodel', 'VGG_okutama_SSD_720x576_iter_2000.caffemodel', 'VGG_okutama_SSD_720x576_iter_3000.caffemodel', 'VGG_okutama_SSD_720x576_iter_4000.caffemodel', 'VGG_okutama_SSD_720x576_iter_5000.caffemodel', 'VGG_okutama_SSD_720x576_iter_6000.caffemodel', 'VGG_okutama_SSD_720x576_iter_7000.caffemodel', 'VGG_okutama_SSD_720x576_iter_8000.caffemodel']\n"
     ]
    }
   ],
   "source": [
    "snapshots = os.listdir(SNAP_DIR)\n",
    "snapshots = filter(lambda x: '.caffemodel' in x, snapshots) # only the .caffemodel files\n",
    "snapshots.sort(key = lambda x: int(re.sub('\\D','', x))) # sort by iteration\n",
    "\n",
    "snapshots = snapshots[1::2]\n",
    "print snapshots"
   ]
  },
  {
   "cell_type": "code",
   "execution_count": null,
   "metadata": {
    "collapsed": false
   },
   "outputs": [],
   "source": [
    "def plot_scores():\n",
    "    scores = []\n",
    "    iters = []\n",
    "    for i, s in enumerate(snapshots):\n",
    "        log_file = os.path.join(SNAP_DIR, s.split('.')[0] + \".log\")\n",
    "        if not os.path.exists(log_file):\n",
    "            continue\n",
    "        with open(log_file) as f:\n",
    "            lines = f.readlines()\n",
    "            iteration = [l for l in lines if \"Finetuning from\" in l]    \n",
    "            score = [l for l in lines if \"Test net output\" in l] \n",
    "            if len(score)>0 and len(iteration)>0:\n",
    "                iters.append(float(iteration[0].split(\"iter_\")[1].split(\".\")[0]))\n",
    "                scores.append(float(score[0].split('=')[1].strip()))\n",
    "\n",
    "    plt.plot(iters, scores)\n",
    "    plt.legend([\"mAP_val\"],\n",
    "               bbox_to_anchor=(1.05, 1), loc=2, borderaxespad=0.)\n",
    "    display.clear_output(wait=True)\n",
    "    plt.show()"
   ]
  },
  {
   "cell_type": "markdown",
   "metadata": {},
   "source": [
    "Run test on validation set for each snapshot."
   ]
  },
  {
   "cell_type": "code",
   "execution_count": null,
   "metadata": {
    "collapsed": false,
    "scrolled": true
   },
   "outputs": [
    {
     "name": "stdout",
     "output_type": "stream",
     "text": [
      "VGG_okutama_SSD_720x576_iter_1000.caffemodel\n"
     ]
    }
   ],
   "source": [
    "hists = []\n",
    "plt.show()\n",
    "for i, s in enumerate(snapshots):\n",
    "    print(s)\n",
    "    weights = os.path.join(SNAP_DIR, s)\n",
    "    log_file = weights.split('.')[0] + \".log\"\n",
    "    cmd = root+'build/tools/caffe train --solver=\"{}\" --weights=\"{}\"'.format(SOLVER_FILE, weights)\n",
    "    if len(GPUS)>0:\n",
    "        cmd += ' --gpu {} 2>&1 | tee {}'.format(GPUS, log_file)\n",
    "    else:\n",
    "        cmd += ' 2>&1 | tee {}'.format(log_file)\n",
    "\n",
    "    # Run the job.\n",
    "    subprocess.call(cmd, shell=True)\n",
    "    #plot_scores()"
   ]
  },
  {
   "cell_type": "code",
   "execution_count": null,
   "metadata": {
    "collapsed": true
   },
   "outputs": [],
   "source": []
  }
 ],
 "metadata": {
  "hide_input": false,
  "kernelspec": {
   "display_name": "Python 2",
   "language": "python",
   "name": "python2"
  },
  "language_info": {
   "codemirror_mode": {
    "name": "ipython",
    "version": 2
   },
   "file_extension": ".py",
   "mimetype": "text/x-python",
   "name": "python",
   "nbconvert_exporter": "python",
   "pygments_lexer": "ipython2",
   "version": "2.7.6"
  }
 },
 "nbformat": 4,
 "nbformat_minor": 2
}
